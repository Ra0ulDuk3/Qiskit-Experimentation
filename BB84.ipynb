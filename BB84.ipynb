{
 "cells": [
  {
   "cell_type": "markdown",
   "metadata": {},
   "source": [
    "Quantum Key Distribution \n",
    "==============\n",
    "\n",
    "### Problem\n",
    "When Alice and Bob want to communicate with *Confidentiality*, *Data Integrity*, *Entity and Data Authentication*, and *Non-repudiation*, they need to harness the tools of cryptography. \n",
    "\n",
    "Unfortunately, cryptographic systems are rarely a silver bullet against any violation of the aforementioned conditions for perfectly secure cryptography. Indeed, there exists a very prevalent version of the chicken vs the egg problem in cryptography. This is known as the **Key Exchange Problem**. \n",
    "\n",
    "The **Key Exchange Problem** arises from the fact that we must always first start in an insecure channel, yet we must distribute keys that are used by trusted entities to access the secured channel once it is created. But if we are in an insecure channel, how can we possibly guarantee that the key is not being stolen, replicated, corrupted, or otherwise tampered with by adversaries?\n",
    "\n",
    "\n",
    "### Solution\n",
    "Quantum Key Distribution has promise as a possible solution to the key exchange problem. The reason for this is primarily due to the Heisenberg Uncertainty Principle in quantum mechanics, which holds that every measurement on a quantum state will result in the collapse of the state onto one and only one of the classical states that had a probability greater than 0 for the system's wave function.\n",
    "\n",
    "Another reason Quantum Key Distribution can guarantee us message integrity and confidentiality is due to the no-cloning theorem, which states that a quantum system can not be cloned. The reason for this is due to cloning requiring some sort of measurement of the system, but wait!! Measurement collapses state! \n",
    "\n",
    "For this reason, we can confidently assume that in order to clone, replicate, measure, or tamper with our message; our evesdropper needs to perform a measurment and will unevitably collapse the quantum state, an action that is irreversible and obvious to the intended recipient of the message.\n",
    "\n",
    "**Note**: *It is important to note that Quantum Key Distribution does not guarantee all four conditions for perfect cryptography and that it is imperative to also use some sort of secure authentication method in conjuction with QKD such as RSA signatures.*  \n",
    "\n",
    "\n",
    "### Physical Implementation \n",
    "One possible physical implementation consists of sending photons of "
   ]
  },
  {
   "cell_type": "code",
   "execution_count": 5,
   "metadata": {},
   "outputs": [],
   "source": [
    "# need to create and execute circuits locally \n",
    "from qiskit import QuantumCircuit, execute, Aer\n",
    "# need to visualize circuity\n",
    "from qiskit.visualization import plot_histogram, plot_bloch_multivector\n",
    "# need to generate pseudorandom numbers\n",
    "from numpy.random import randint\n",
    "# need numerical python for calculation\n",
    "import numpy as np\n"
   ]
  },
  {
   "cell_type": "code",
   "execution_count": null,
   "metadata": {},
   "outputs": [],
   "source": []
  }
 ],
 "metadata": {
  "kernelspec": {
   "display_name": "Python 3",
   "language": "python",
   "name": "python3"
  },
  "language_info": {
   "codemirror_mode": {
    "name": "ipython",
    "version": 3
   },
   "file_extension": ".py",
   "mimetype": "text/x-python",
   "name": "python",
   "nbconvert_exporter": "python",
   "pygments_lexer": "ipython3",
   "version": "3.7.8"
  }
 },
 "nbformat": 4,
 "nbformat_minor": 4
}
