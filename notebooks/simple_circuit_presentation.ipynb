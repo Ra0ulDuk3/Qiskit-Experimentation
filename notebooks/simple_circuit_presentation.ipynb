{
 "cells": [
  {
   "cell_type": "markdown",
   "metadata": {},
   "source": [
    "Simple Circuit For Taking Measurements  \n",
    "==============="
   ]
  },
  {
   "cell_type": "markdown",
   "metadata": {},
   "source": [
    "First we need to bring in the Qiskit modules which give us the ability to simulate quantum machines, communicate with quantum machine at IBM, and visualize our quantum circuits"
   ]
  },
  {
   "cell_type": "code",
   "execution_count": null,
   "metadata": {},
   "outputs": [],
   "source": [
    "# bring in necessary modules\n",
    "from qiskit import QuantumCircuit, execute, Aer\n",
    "from qiskit.visualization import plot_histogram\n"
   ]
  },
  {
   "cell_type": "markdown",
   "metadata": {},
   "source": [
    "Now we need to setup the number of bits we want in our system"
   ]
  },
  {
   "cell_type": "code",
   "execution_count": null,
   "metadata": {},
   "outputs": [],
   "source": [
    "# number of quantum bits \n",
    "n_qbits = 9\n"
   ]
  },
  {
   "cell_type": "markdown",
   "metadata": {},
   "source": [
    "Next we create a quantum circuit. This is done by using the QuantumCircuit constructor provided by Qiskit. The first parameter represents the number of quantum bits and the second parameter the number of classical bits to initialize in the system.\n",
    "\n",
    "In the circuit we go on to measure our quantum bits. We will essentially be introducing measurements along each wire (where we can think of a wire starting at each quantum bit). We use the `measure(input, output)` function to measure a quantum state `input` onto a classical bit `output`. \n",
    "\n",
    "You may notice that we are not passing in actual bit objects or references but instead just integers. This is because our system indexes the bits and we can reference with 0-based integer indexing."
   ]
  },
  {
   "cell_type": "code",
   "execution_count": 111,
   "metadata": {},
   "outputs": [
    {
     "data": {
      "text/html": [
       "<pre style=\"word-wrap: normal;white-space: pre;background: #fff0;line-height: 1.1;font-family: &quot;Courier New&quot;,Courier,monospace\">     ┌─┐                        \n",
       "q_0: ┤M├────────────────────────\n",
       "     └╥┘┌─┐                     \n",
       "q_1: ─╫─┤M├─────────────────────\n",
       "      ║ └╥┘┌─┐                  \n",
       "q_2: ─╫──╫─┤M├──────────────────\n",
       "      ║  ║ └╥┘┌─┐               \n",
       "q_3: ─╫──╫──╫─┤M├───────────────\n",
       "      ║  ║  ║ └╥┘┌─┐            \n",
       "q_4: ─╫──╫──╫──╫─┤M├────────────\n",
       "      ║  ║  ║  ║ └╥┘┌─┐         \n",
       "q_5: ─╫──╫──╫──╫──╫─┤M├─────────\n",
       "      ║  ║  ║  ║  ║ └╥┘┌─┐      \n",
       "q_6: ─╫──╫──╫──╫──╫──╫─┤M├──────\n",
       "      ║  ║  ║  ║  ║  ║ └╥┘┌─┐   \n",
       "q_7: ─╫──╫──╫──╫──╫──╫──╫─┤M├───\n",
       "      ║  ║  ║  ║  ║  ║  ║ └╥┘┌─┐\n",
       "q_8: ─╫──╫──╫──╫──╫──╫──╫──╫─┤M├\n",
       "      ║  ║  ║  ║  ║  ║  ║  ║ └╥┘\n",
       "c: 9/═╩══╩══╩══╩══╩══╩══╩══╩══╩═\n",
       "      0  1  2  3  4  5  6  7  8 </pre>"
      ],
      "text/plain": [
       "     ┌─┐                        \n",
       "q_0: ┤M├────────────────────────\n",
       "     └╥┘┌─┐                     \n",
       "q_1: ─╫─┤M├─────────────────────\n",
       "      ║ └╥┘┌─┐                  \n",
       "q_2: ─╫──╫─┤M├──────────────────\n",
       "      ║  ║ └╥┘┌─┐               \n",
       "q_3: ─╫──╫──╫─┤M├───────────────\n",
       "      ║  ║  ║ └╥┘┌─┐            \n",
       "q_4: ─╫──╫──╫──╫─┤M├────────────\n",
       "      ║  ║  ║  ║ └╥┘┌─┐         \n",
       "q_5: ─╫──╫──╫──╫──╫─┤M├─────────\n",
       "      ║  ║  ║  ║  ║ └╥┘┌─┐      \n",
       "q_6: ─╫──╫──╫──╫──╫──╫─┤M├──────\n",
       "      ║  ║  ║  ║  ║  ║ └╥┘┌─┐   \n",
       "q_7: ─╫──╫──╫──╫──╫──╫──╫─┤M├───\n",
       "      ║  ║  ║  ║  ║  ║  ║ └╥┘┌─┐\n",
       "q_8: ─╫──╫──╫──╫──╫──╫──╫──╫─┤M├\n",
       "      ║  ║  ║  ║  ║  ║  ║  ║ └╥┘\n",
       "c: 9/═╩══╩══╩══╩══╩══╩══╩══╩══╩═\n",
       "      0  1  2  3  4  5  6  7  8 "
      ]
     },
     "execution_count": 111,
     "metadata": {},
     "output_type": "execute_result"
    }
   ],
   "source": [
    "def measurement_circuit(n_qbits):\n",
    "    '''\n",
    "        This method creates a measurement circuit based off of the\n",
    "        n_qbits paramter which specifies the number of qbits to use \n",
    "    '''\n",
    "    # create the quantum circuit\n",
    "    measurement_circuit = QuantumCircuit(n_qbits, n_qbits)\n",
    "    \n",
    "    # loop through and measure each qbit into the classical bits\n",
    "    for i in range(n_qbits): \n",
    "        # add measurement gates for all input to all output\n",
    "        measurement_circuit.measure(i, i)\n",
    "    return measurement_circuit\n",
    "\n",
    "# call the method\n",
    "measurement_circuit = measurement_circuit(n_qbits)\n",
    "# show the circuit\n",
    "measurement_circuit.draw()"
   ]
  },
  {
   "cell_type": "markdown",
   "metadata": {},
   "source": [
    "Our circuit is now setup, now we can begin executing! There are a few ways to execute, including sending your algorithm off to IBM Quantum machines to run. The way to control this is through the backend parameter. For now we are just going to run on the quantum assembly simulator (local).\n"
   ]
  },
  {
   "cell_type": "code",
   "execution_count": 112,
   "metadata": {},
   "outputs": [
    {
     "data": {
      "image/png": "[encoded data removed]",
      "text/plain": [
       "<Figure size 504x360 with 1 Axes>"
      ]
     },
     "execution_count": 112,
     "metadata": {},
     "output_type": "execute_result"
    }
   ],
   "source": [
    "counts = execute(measurement_circuit,Aer.get_backend('qasm_simulator')).result().get_counts()\n",
    "plot_histogram(counts)\n"
   ]
  },
  {
   "cell_type": "markdown",
   "metadata": {},
   "source": [
    "#### Analyzing our Output\n",
    "\n",
    "Our output is all 0 since quantum bits are always initialized to have a value of 0. We also see P(0) = 1.0, this is only going to happen on a PERFECT quantum computer. We are by no means at that point in the evolution of the technology yet, so we can send this off to IBM Quantum and its highly unlikely that we get this kind of result.}"
   ]
  },
  {
   "cell_type": "markdown",
   "metadata": {},
   "source": [
    " \n",
    "\n",
    "### Encoding an input\n",
    "\n",
    "To encode inputs, we need to bring in not gates, not gates simply flip bits. for qubits, we can just use the operation `circuit.x(index)`, where index is the index of the qubit that youd like to apply the not gate to. "
   ]
  },
  {
   "cell_type": "code",
   "execution_count": 113,
   "metadata": {},
   "outputs": [
    {
     "data": {
      "text/html": [
       "<pre style=\"word-wrap: normal;white-space: pre;background: #fff0;line-height: 1.1;font-family: &quot;Courier New&quot;,Courier,monospace\">          \n",
       "q_0: ─────\n",
       "          \n",
       "q_1: ─────\n",
       "          \n",
       "q_2: ─────\n",
       "          \n",
       "q_3: ─────\n",
       "          \n",
       "q_4: ─────\n",
       "          \n",
       "q_5: ─────\n",
       "          \n",
       "q_6: ─────\n",
       "          \n",
       "q_7: ─────\n",
       "     ┌───┐\n",
       "q_8: ┤ X ├\n",
       "     └───┘</pre>"
      ],
      "text/plain": [
       "          \n",
       "q_0: ─────\n",
       "          \n",
       "q_1: ─────\n",
       "          \n",
       "q_2: ─────\n",
       "          \n",
       "q_3: ─────\n",
       "          \n",
       "q_4: ─────\n",
       "          \n",
       "q_5: ─────\n",
       "          \n",
       "q_6: ─────\n",
       "          \n",
       "q_7: ─────\n",
       "     ┌───┐\n",
       "q_8: ┤ X ├\n",
       "     └───┘"
      ]
     },
     "execution_count": 113,
     "metadata": {},
     "output_type": "execute_result"
    }
   ],
   "source": [
    "encoding_circuit = QuantumCircuit(n_qbits)\n",
    "\n",
    "# add the not gate to the last qubit (index 7) \n",
    "encoding_circuit.x(8)\n",
    "\n",
    "# draw the gate\n",
    "encoding_circuit.draw()"
   ]
  },
  {
   "cell_type": "markdown",
   "metadata": {},
   "source": [
    "We have now begun to create a circuit that will be able to add numbers, but we are still going to need to measure the result! This is where we can use the previous circuit to have our algorithm consist of the result of both circuits in sequence! "
   ]
  },
  {
   "cell_type": "code",
   "execution_count": 114,
   "metadata": {},
   "outputs": [
    {
     "data": {
      "text/html": [
       "<pre style=\"word-wrap: normal;white-space: pre;background: #fff0;line-height: 1.1;font-family: &quot;Courier New&quot;,Courier,monospace\">          ┌─┐                        \n",
       "q_0: ─────┤M├────────────────────────\n",
       "          └╥┘┌─┐                     \n",
       "q_1: ──────╫─┤M├─────────────────────\n",
       "           ║ └╥┘┌─┐                  \n",
       "q_2: ──────╫──╫─┤M├──────────────────\n",
       "           ║  ║ └╥┘┌─┐               \n",
       "q_3: ──────╫──╫──╫─┤M├───────────────\n",
       "           ║  ║  ║ └╥┘┌─┐            \n",
       "q_4: ──────╫──╫──╫──╫─┤M├────────────\n",
       "           ║  ║  ║  ║ └╥┘┌─┐         \n",
       "q_5: ──────╫──╫──╫──╫──╫─┤M├─────────\n",
       "           ║  ║  ║  ║  ║ └╥┘┌─┐      \n",
       "q_6: ──────╫──╫──╫──╫──╫──╫─┤M├──────\n",
       "           ║  ║  ║  ║  ║  ║ └╥┘┌─┐   \n",
       "q_7: ──────╫──╫──╫──╫──╫──╫──╫─┤M├───\n",
       "     ┌───┐ ║  ║  ║  ║  ║  ║  ║ └╥┘┌─┐\n",
       "q_8: ┤ X ├─╫──╫──╫──╫──╫──╫──╫──╫─┤M├\n",
       "     └───┘ ║  ║  ║  ║  ║  ║  ║  ║ └╥┘\n",
       "c: 9/══════╩══╩══╩══╩══╩══╩══╩══╩══╩═\n",
       "           0  1  2  3  4  5  6  7  8 </pre>"
      ],
      "text/plain": [
       "          ┌─┐                        \n",
       "q_0: ─────┤M├────────────────────────\n",
       "          └╥┘┌─┐                     \n",
       "q_1: ──────╫─┤M├─────────────────────\n",
       "           ║ └╥┘┌─┐                  \n",
       "q_2: ──────╫──╫─┤M├──────────────────\n",
       "           ║  ║ └╥┘┌─┐               \n",
       "q_3: ──────╫──╫──╫─┤M├───────────────\n",
       "           ║  ║  ║ └╥┘┌─┐            \n",
       "q_4: ──────╫──╫──╫──╫─┤M├────────────\n",
       "           ║  ║  ║  ║ └╥┘┌─┐         \n",
       "q_5: ──────╫──╫──╫──╫──╫─┤M├─────────\n",
       "           ║  ║  ║  ║  ║ └╥┘┌─┐      \n",
       "q_6: ──────╫──╫──╫──╫──╫──╫─┤M├──────\n",
       "           ║  ║  ║  ║  ║  ║ └╥┘┌─┐   \n",
       "q_7: ──────╫──╫──╫──╫──╫──╫──╫─┤M├───\n",
       "     ┌───┐ ║  ║  ║  ║  ║  ║  ║ └╥┘┌─┐\n",
       "q_8: ┤ X ├─╫──╫──╫──╫──╫──╫──╫──╫─┤M├\n",
       "     └───┘ ║  ║  ║  ║  ║  ║  ║  ║ └╥┘\n",
       "c: 9/══════╩══╩══╩══╩══╩══╩══╩══╩══╩═\n",
       "           0  1  2  3  4  5  6  7  8 "
      ]
     },
     "execution_count": 114,
     "metadata": {},
     "output_type": "execute_result"
    }
   ],
   "source": [
    "# create whole circuit \n",
    "complete_circuit = encoding_circuit + measurement_circuit\n",
    "\n",
    "# draw\n",
    "complete_circuit.draw()"
   ]
  },
  {
   "cell_type": "code",
   "execution_count": 115,
   "metadata": {},
   "outputs": [
    {
     "data": {
      "image/png": "[encoded data removed]",
      "text/plain": [
       "<Figure size 504x360 with 1 Axes>"
      ]
     },
     "execution_count": 115,
     "metadata": {},
     "output_type": "execute_result"
    }
   ],
   "source": [
    "# lets execute again! \n",
    "\n",
    "counts = execute(complete_circuit,Aer.get_backend('qasm_simulator')).result().get_counts()\n",
    "plot_histogram(counts)\n"
   ]
  },
  {
   "cell_type": "markdown",
   "metadata": {},
   "source": [
    "#### Analyzing our ouput\n",
    "\n",
    "Now we see that our result is `1000000`, the bit we flipped was the 7th index, and since in qiskit the leading bit is the last index, we can see the result of our single bit flip in the 7th index as the first element now being 1. Again PERFECT RESULTS FROM A PERFECTLY SIMULATED MACHINE"
   ]
  },
  {
   "cell_type": "markdown",
   "metadata": {},
   "source": [
    "#### Encoding any number \n",
    "\n",
    "Say we wanted to encode any value in this input, well firstly we are limited by the number of inputs, as we can only encode \\[0, (2^n)-1), where n is the number of input bits.\n",
    "\n",
    "If we wanted to encode some arbitrary number (or even strings and objects if you keep encoding consistent!) we would have to first make sure it falls with in our \"encodable range\", and then use our encoding scheme (in case of integers it would just be a conversion from base 10 to base 2) to create a bitstring and at the places that there exist 1 simply apply a not, or x, gate. "
   ]
  },
  {
   "cell_type": "code",
   "execution_count": 116,
   "metadata": {},
   "outputs": [
    {
     "name": "stdout",
     "output_type": "stream",
     "text": [
      "110100100\n"
     ]
    },
    {
     "data": {
      "text/html": [
       "<pre style=\"word-wrap: normal;white-space: pre;background: #fff0;line-height: 1.1;font-family: &quot;Courier New&quot;,Courier,monospace\">          \n",
       "q_0: ─────\n",
       "          \n",
       "q_1: ─────\n",
       "     ┌───┐\n",
       "q_2: ┤ X ├\n",
       "     └───┘\n",
       "q_3: ─────\n",
       "          \n",
       "q_4: ─────\n",
       "     ┌───┐\n",
       "q_5: ┤ X ├\n",
       "     └───┘\n",
       "q_6: ─────\n",
       "     ┌───┐\n",
       "q_7: ┤ X ├\n",
       "     ├───┤\n",
       "q_8: ┤ X ├\n",
       "     └───┘</pre>"
      ],
      "text/plain": [
       "          \n",
       "q_0: ─────\n",
       "          \n",
       "q_1: ─────\n",
       "     ┌───┐\n",
       "q_2: ┤ X ├\n",
       "     └───┘\n",
       "q_3: ─────\n",
       "          \n",
       "q_4: ─────\n",
       "     ┌───┐\n",
       "q_5: ┤ X ├\n",
       "     └───┘\n",
       "q_6: ─────\n",
       "     ┌───┐\n",
       "q_7: ┤ X ├\n",
       "     ├───┤\n",
       "q_8: ┤ X ├\n",
       "     └───┘"
      ]
     },
     "execution_count": 116,
     "metadata": {},
     "output_type": "execute_result"
    }
   ],
   "source": [
    "def encode_bitstring(bits):\n",
    "    '''\n",
    "        This method takes in a bitstring and encodes it in our circuit\n",
    "    '''\n",
    "    \n",
    "    n_qbits = len(bits)\n",
    "    encoding_circuit = QuantumCircuit(n_qbits)\n",
    "    \n",
    "    # lets keep track of the bits we are gonna have to flip \n",
    "    flips = []\n",
    "\n",
    "    # loop through the bitstring\n",
    "    for i in range(len(lucky_number)):\n",
    "        # check if we need to flip this position\n",
    "        if lucky_number[i] == '1':\n",
    "            # since ordering is backwards, we need a way to reverse index\n",
    "            reverse = 1 + i\n",
    "            flips.append(len(lucky_number) - reverse)\n",
    "\n",
    "    # now we know which bits to flip, so lets get to flippin!\n",
    "    for i in flips:\n",
    "        encoding_circuit.x(i)\n",
    "\n",
    "    return encoding_circuit\n",
    "\n",
    "\n",
    "# choose a number! \n",
    "lucky_number = 420\n",
    "# convert it to bits! \n",
    "lucky_number = str(bin(lucky_number))[2:]\n",
    "print(lucky_number)\n",
    "\n",
    "# create the encoding circuit \n",
    "encoding_circuit = encode_bitstring(lucky_number)\n",
    "# draw it!\n",
    "encoding_circuit.draw()\n",
    "\n"
   ]
  },
  {
   "cell_type": "markdown",
   "metadata": {},
   "source": [
    "### Creating a Half-Adder Circuit\n",
    "Adder circuits are whats used for bitwise addition, that is, in base 2.\n",
    "\n",
    "not gonna go to deep into bitwise addition as hopefully all are familiar but essentially we have 4 cases \n",
    "\n",
    "| bit operation| bit result| decimal analogue|\n",
    "|---|------|---------------------------|\n",
    "|0+0|  00 |(in decimal, this is 0+0=0)|\n",
    "|0+1|  01 |(in decimal, this is 0+1=1)|\n",
    "|1+0|  01 |(in decimal, this is 1+0=1)|\n",
    "|1+1|  10 |(in decimal, this is 1+1=2)|\n",
    "\n",
    "\n",
    "If our machine can implement this, and chain many in sequence, we can add anything \n",
    "\n",
    "**Note**: pay special attention to the cases that rightmost bit is changed, why might that be? "
   ]
  },
  {
   "cell_type": "markdown",
   "metadata": {},
   "source": [
    "In these cases, it is dependent on whether or not the bits are the same. This is just an exclusive or! "
   ]
  },
  {
   "cell_type": "markdown",
   "metadata": {},
   "source": [
    "####  C-Not Gate\n",
    "\n",
    "In quantum, the job of XOR is done by the controlled-not. Applied to two qubits, one acts as the control qubit (the one with the little dot) and the target qubit (the one with the big circle). \n",
    "\n",
    "**In practice**: A C-Not does a NOT on the target if the control is 1, otherwise it does nothing.\n",
    "\n",
    "\n",
    "#### Toffoli Gate\n",
    "\n",
    "The Toffoli gate is really just an AND gate and is represented with `circuit.ccx(a,b, output)`. If we pay special attention to the cases again, we see that the only time we get an output with leftmost bit being 1 is when both inputs are 1. This means the AND gate is going to be really useful!"
   ]
  },
  {
   "cell_type": "code",
   "execution_count": 124,
   "metadata": {},
   "outputs": [
    {
     "data": {
      "image/png": "[encoded data removed]",
      "text/plain": [
       "<Figure size 622.377x325.08 with 1 Axes>"
      ]
     },
     "execution_count": 124,
     "metadata": {},
     "output_type": "execute_result"
    }
   ],
   "source": [
    "def half_adder(a, b): \n",
    "    ''' creates and returns a half-adder quantum circuit\n",
    "        \n",
    "        params:\n",
    "            a(int): first bit to be added\n",
    "            b(int): second bit to be added \n",
    "    '''\n",
    "    \n",
    "    def half_adder_input(a, b):\n",
    "        ''' \n",
    "            encodes a and b into the part of the circuit based on their values.\n",
    "        we are setting circuit up so we can add a and b\n",
    "        '''\n",
    "        # 2 outputs will be measured, but need 4 wires so we dont overwrite anythingr\n",
    "        circuit = QuantumCircuit(4, 2)\n",
    "        \n",
    "        # encode \n",
    "        if (a == 1):\n",
    "            circuit.x(0)\n",
    "        if (b == 1):\n",
    "            circuit.x(1)\n",
    "        return circuit\n",
    "    \n",
    "    \n",
    "    # encode inputs\n",
    "    circuit = half_adder_input(a,b) \n",
    "    \n",
    "    # visual barrier\n",
    "    circuit.barrier()\n",
    "    \n",
    "    # use cnot to write the XOR of inputs on qubit 2 (rightmost bit)\n",
    "    circuit.cx(0,2)\n",
    "    circuit.cx(1,2)\n",
    "    \n",
    "    # use ccx to write the AND of the inputs on qubit 3 (leftmost bit)\n",
    "    circuit.ccx(0,1,3)\n",
    "    \n",
    "    # visual barrier\n",
    "    circuit.barrier()\n",
    "    \n",
    "    # extract outputs \n",
    "    circuit.measure(2,0)\n",
    "    circuit.measure(3,1)\n",
    "    \n",
    "    return circuit \n",
    "    \n",
    "    \n",
    "        \n",
    "circuit = half_adder(1,0)\n",
    "circuit.draw(\"mpl\")"
   ]
  },
  {
   "cell_type": "code",
   "execution_count": 125,
   "metadata": {},
   "outputs": [
    {
     "data": {
      "image/png": "[encoded data removed]",
      "text/plain": [
       "<Figure size 504x360 with 1 Axes>"
      ]
     },
     "execution_count": 125,
     "metadata": {},
     "output_type": "execute_result"
    }
   ],
   "source": [
    "counts = execute(circuit,Aer.get_backend('qasm_simulator')).result().get_counts()\n",
    "plot_histogram(counts)"
   ]
  }
 ],
 "metadata": {
  "kernelspec": {
   "display_name": "Python 3",
   "language": "python",
   "name": "python3"
  },
  "language_info": {
   "codemirror_mode": {
    "name": "ipython",
    "version": 3
   },
   "file_extension": ".py",
   "mimetype": "text/x-python",
   "name": "python",
   "nbconvert_exporter": "python",
   "pygments_lexer": "ipython3",
   "version": "3.7.8"
  }
 },
 "nbformat": 4,
 "nbformat_minor": 4
}
